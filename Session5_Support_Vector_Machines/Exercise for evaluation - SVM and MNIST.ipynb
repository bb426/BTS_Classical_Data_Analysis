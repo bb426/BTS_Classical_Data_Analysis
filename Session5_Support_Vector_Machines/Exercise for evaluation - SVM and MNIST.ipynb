{
 "cells": [
  {
   "cell_type": "markdown",
   "metadata": {},
   "source": [
    "## SVM for hand-written digit recognition\n",
    "\n",
    "As an example of support vector machines in action, let's take a look at the hand-written digit recognition problem. We will use the MNIST dataset, which consists of several thousand gray scale images of hand-written digits. You can load directly the dataset with sklearn."
   ]
  },
  {
   "cell_type": "code",
   "execution_count": null,
   "metadata": {},
   "outputs": [],
   "source": [
    "from sklearn.datasets import load_digits\n",
    "mnist = load_digits(n_class=10)"
   ]
  },
  {
   "cell_type": "markdown",
   "metadata": {},
   "source": [
    "After downloading the dataset, print the general description of the dataset. Then print the target names and the shape of the images."
   ]
  },
  {
   "cell_type": "code",
   "execution_count": null,
   "metadata": {},
   "outputs": [],
   "source": []
  },
  {
   "cell_type": "markdown",
   "metadata": {},
   "source": [
    "Now print again the shape of `mnist.images` and `mnist.data`. What do you think is the relationship between them?"
   ]
  },
  {
   "cell_type": "code",
   "execution_count": null,
   "metadata": {},
   "outputs": [],
   "source": []
  },
  {
   "cell_type": "markdown",
   "metadata": {},
   "source": [
    "In this exercise you should:\n",
    "\n",
    " - Visualize and present the dataset\n",
    " - Apply the SVC to perform multi-class classification\n",
    " - Comment on the usage of the different kernels and the effect of the hyper-parameters\n",
    " - Visualize the results with a confusion matrix\n",
    " - Create a grid with different test examples showing the predicted and the true label\n",
    " - Compute the accuracy score and comment on the results\n",
    " - Perform any other experiments that you can think of, always reason about the results!"
   ]
  }
 ],
 "metadata": {
  "kernelspec": {
   "display_name": "Python 3",
   "language": "python",
   "name": "python3"
  },
  "language_info": {
   "codemirror_mode": {
    "name": "ipython",
    "version": 3
   },
   "file_extension": ".py",
   "mimetype": "text/x-python",
   "name": "python",
   "nbconvert_exporter": "python",
   "pygments_lexer": "ipython3",
   "version": "3.7.1"
  }
 },
 "nbformat": 4,
 "nbformat_minor": 2
}
